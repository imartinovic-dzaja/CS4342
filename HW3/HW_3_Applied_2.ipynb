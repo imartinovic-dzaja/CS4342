{
  "nbformat": 4,
  "nbformat_minor": 0,
  "metadata": {
    "colab": {
      "name": "HW 3 Applied 2.ipynb",
      "provenance": []
    },
    "kernelspec": {
      "name": "python3",
      "display_name": "Python 3"
    },
    "language_info": {
      "name": "python"
    }
  },
  "cells": [
    {
      "cell_type": "code",
      "metadata": {
        "colab": {
          "base_uri": "https://localhost:8080/",
          "height": 424
        },
        "id": "Mwmcm1as6eOQ",
        "outputId": "55227c95-1d08-478d-b9fb-19a01ed8e077"
      },
      "source": [
        "import numpy as np\n",
        "import pandas as pd\n",
        "\n",
        "data = pd.read_csv('Auto.csv', na_values='?').dropna()\n",
        "\n",
        "data['american'] = 0\n",
        "data['european'] = 0\n",
        "data['japanese'] = 0\n",
        "data.loc[(data.origin == 1), 'american']= 1\n",
        "data.loc[(data.origin == 2), 'european']= 1\n",
        "data.loc[(data.origin == 3), 'japanese']= 1\n",
        "\n",
        "medianMpg = data['mpg'].median()\n",
        "data.loc[(data.mpg > medianMpg),'mpg01'] = 1\n",
        "data.loc[(data.mpg < medianMpg),'mpg01'] = 0\n",
        "data.mpg01 = pd.to_numeric(data.mpg01)\n",
        "\n",
        "data.drop(['origin', 'name'], axis=1)"
      ],
      "execution_count": 2,
      "outputs": [
        {
          "output_type": "execute_result",
          "data": {
            "text/html": [
              "<div>\n",
              "<style scoped>\n",
              "    .dataframe tbody tr th:only-of-type {\n",
              "        vertical-align: middle;\n",
              "    }\n",
              "\n",
              "    .dataframe tbody tr th {\n",
              "        vertical-align: top;\n",
              "    }\n",
              "\n",
              "    .dataframe thead th {\n",
              "        text-align: right;\n",
              "    }\n",
              "</style>\n",
              "<table border=\"1\" class=\"dataframe\">\n",
              "  <thead>\n",
              "    <tr style=\"text-align: right;\">\n",
              "      <th></th>\n",
              "      <th>mpg</th>\n",
              "      <th>cylinders</th>\n",
              "      <th>displacement</th>\n",
              "      <th>horsepower</th>\n",
              "      <th>weight</th>\n",
              "      <th>acceleration</th>\n",
              "      <th>year</th>\n",
              "      <th>american</th>\n",
              "      <th>european</th>\n",
              "      <th>japanese</th>\n",
              "      <th>mpg01</th>\n",
              "    </tr>\n",
              "  </thead>\n",
              "  <tbody>\n",
              "    <tr>\n",
              "      <th>0</th>\n",
              "      <td>18.0</td>\n",
              "      <td>8</td>\n",
              "      <td>307.0</td>\n",
              "      <td>130.0</td>\n",
              "      <td>3504</td>\n",
              "      <td>12.0</td>\n",
              "      <td>70</td>\n",
              "      <td>1</td>\n",
              "      <td>0</td>\n",
              "      <td>0</td>\n",
              "      <td>0.0</td>\n",
              "    </tr>\n",
              "    <tr>\n",
              "      <th>1</th>\n",
              "      <td>15.0</td>\n",
              "      <td>8</td>\n",
              "      <td>350.0</td>\n",
              "      <td>165.0</td>\n",
              "      <td>3693</td>\n",
              "      <td>11.5</td>\n",
              "      <td>70</td>\n",
              "      <td>1</td>\n",
              "      <td>0</td>\n",
              "      <td>0</td>\n",
              "      <td>0.0</td>\n",
              "    </tr>\n",
              "    <tr>\n",
              "      <th>2</th>\n",
              "      <td>18.0</td>\n",
              "      <td>8</td>\n",
              "      <td>318.0</td>\n",
              "      <td>150.0</td>\n",
              "      <td>3436</td>\n",
              "      <td>11.0</td>\n",
              "      <td>70</td>\n",
              "      <td>1</td>\n",
              "      <td>0</td>\n",
              "      <td>0</td>\n",
              "      <td>0.0</td>\n",
              "    </tr>\n",
              "    <tr>\n",
              "      <th>3</th>\n",
              "      <td>16.0</td>\n",
              "      <td>8</td>\n",
              "      <td>304.0</td>\n",
              "      <td>150.0</td>\n",
              "      <td>3433</td>\n",
              "      <td>12.0</td>\n",
              "      <td>70</td>\n",
              "      <td>1</td>\n",
              "      <td>0</td>\n",
              "      <td>0</td>\n",
              "      <td>0.0</td>\n",
              "    </tr>\n",
              "    <tr>\n",
              "      <th>4</th>\n",
              "      <td>17.0</td>\n",
              "      <td>8</td>\n",
              "      <td>302.0</td>\n",
              "      <td>140.0</td>\n",
              "      <td>3449</td>\n",
              "      <td>10.5</td>\n",
              "      <td>70</td>\n",
              "      <td>1</td>\n",
              "      <td>0</td>\n",
              "      <td>0</td>\n",
              "      <td>0.0</td>\n",
              "    </tr>\n",
              "    <tr>\n",
              "      <th>...</th>\n",
              "      <td>...</td>\n",
              "      <td>...</td>\n",
              "      <td>...</td>\n",
              "      <td>...</td>\n",
              "      <td>...</td>\n",
              "      <td>...</td>\n",
              "      <td>...</td>\n",
              "      <td>...</td>\n",
              "      <td>...</td>\n",
              "      <td>...</td>\n",
              "      <td>...</td>\n",
              "    </tr>\n",
              "    <tr>\n",
              "      <th>392</th>\n",
              "      <td>27.0</td>\n",
              "      <td>4</td>\n",
              "      <td>140.0</td>\n",
              "      <td>86.0</td>\n",
              "      <td>2790</td>\n",
              "      <td>15.6</td>\n",
              "      <td>82</td>\n",
              "      <td>1</td>\n",
              "      <td>0</td>\n",
              "      <td>0</td>\n",
              "      <td>1.0</td>\n",
              "    </tr>\n",
              "    <tr>\n",
              "      <th>393</th>\n",
              "      <td>44.0</td>\n",
              "      <td>4</td>\n",
              "      <td>97.0</td>\n",
              "      <td>52.0</td>\n",
              "      <td>2130</td>\n",
              "      <td>24.6</td>\n",
              "      <td>82</td>\n",
              "      <td>0</td>\n",
              "      <td>1</td>\n",
              "      <td>0</td>\n",
              "      <td>1.0</td>\n",
              "    </tr>\n",
              "    <tr>\n",
              "      <th>394</th>\n",
              "      <td>32.0</td>\n",
              "      <td>4</td>\n",
              "      <td>135.0</td>\n",
              "      <td>84.0</td>\n",
              "      <td>2295</td>\n",
              "      <td>11.6</td>\n",
              "      <td>82</td>\n",
              "      <td>1</td>\n",
              "      <td>0</td>\n",
              "      <td>0</td>\n",
              "      <td>1.0</td>\n",
              "    </tr>\n",
              "    <tr>\n",
              "      <th>395</th>\n",
              "      <td>28.0</td>\n",
              "      <td>4</td>\n",
              "      <td>120.0</td>\n",
              "      <td>79.0</td>\n",
              "      <td>2625</td>\n",
              "      <td>18.6</td>\n",
              "      <td>82</td>\n",
              "      <td>1</td>\n",
              "      <td>0</td>\n",
              "      <td>0</td>\n",
              "      <td>1.0</td>\n",
              "    </tr>\n",
              "    <tr>\n",
              "      <th>396</th>\n",
              "      <td>31.0</td>\n",
              "      <td>4</td>\n",
              "      <td>119.0</td>\n",
              "      <td>82.0</td>\n",
              "      <td>2720</td>\n",
              "      <td>19.4</td>\n",
              "      <td>82</td>\n",
              "      <td>1</td>\n",
              "      <td>0</td>\n",
              "      <td>0</td>\n",
              "      <td>1.0</td>\n",
              "    </tr>\n",
              "  </tbody>\n",
              "</table>\n",
              "<p>392 rows × 11 columns</p>\n",
              "</div>"
            ],
            "text/plain": [
              "      mpg  cylinders  displacement  ...  european  japanese  mpg01\n",
              "0    18.0          8         307.0  ...         0         0    0.0\n",
              "1    15.0          8         350.0  ...         0         0    0.0\n",
              "2    18.0          8         318.0  ...         0         0    0.0\n",
              "3    16.0          8         304.0  ...         0         0    0.0\n",
              "4    17.0          8         302.0  ...         0         0    0.0\n",
              "..    ...        ...           ...  ...       ...       ...    ...\n",
              "392  27.0          4         140.0  ...         0         0    1.0\n",
              "393  44.0          4          97.0  ...         1         0    1.0\n",
              "394  32.0          4         135.0  ...         0         0    1.0\n",
              "395  28.0          4         120.0  ...         0         0    1.0\n",
              "396  31.0          4         119.0  ...         0         0    1.0\n",
              "\n",
              "[392 rows x 11 columns]"
            ]
          },
          "metadata": {},
          "execution_count": 2
        }
      ]
    },
    {
      "cell_type": "code",
      "metadata": {
        "colab": {
          "base_uri": "https://localhost:8080/"
        },
        "id": "n-P9FdX3B1Rx",
        "outputId": "75238743-1864-4634-ea89-c7d3a0567e95"
      },
      "source": [
        "data.dtypes"
      ],
      "execution_count": null,
      "outputs": [
        {
          "output_type": "execute_result",
          "data": {
            "text/plain": [
              "mpg             float64\n",
              "cylinders         int64\n",
              "displacement    float64\n",
              "horsepower      float64\n",
              "weight            int64\n",
              "acceleration    float64\n",
              "year              int64\n",
              "origin            int64\n",
              "name             object\n",
              "american          int64\n",
              "european          int64\n",
              "japanese          int64\n",
              "mpg01           float64\n",
              "dtype: object"
            ]
          },
          "metadata": {},
          "execution_count": 34
        }
      ]
    },
    {
      "cell_type": "code",
      "metadata": {
        "colab": {
          "base_uri": "https://localhost:8080/",
          "height": 518
        },
        "id": "c3kpKj4Q7qt6",
        "outputId": "5aa5c1b4-67f9-4d12-caf4-192c8fa64089"
      },
      "source": [
        "import matplotlib\n",
        "import matplotlib.pyplot as plt\n",
        "from matplotlib.pyplot import figure\n",
        "\n",
        "fig, axs = plt.subplots(2, 3, figsize=(9, 6), dpi = 80)\n",
        "fig.tight_layout()\n",
        "\n",
        "axs[0, 0].scatter(data['cylinders'],data['mpg'], s=1)\n",
        "axs[0, 0].set_title('mpg vs cylinders')\n",
        "axs[0, 1].scatter( data['displacement'],data['mpg'], s=1)\n",
        "axs[0, 1].set_title('mpg vs displacement')\n",
        "axs[0, 2].scatter( data['horsepower'],data['mpg'], s=1)\n",
        "axs[0, 2].set_title('mpg vs horsepower')\n",
        "\n",
        "axs[1, 0].scatter(data['weight'], data['mpg'],s=1)\n",
        "axs[1, 0].set_title('mpg vs weight')\n",
        "axs[1, 1].scatter(data['acceleration'], data['mpg'],s=1)\n",
        "axs[1, 1].set_title('mpg vs acceleration')\n",
        "axs[1, 2].scatter(data['year'], data['mpg'], s=1)\n",
        "axs[1, 2].set_title('mpg vs year')\n",
        "\n"
      ],
      "execution_count": null,
      "outputs": [
        {
          "output_type": "execute_result",
          "data": {
            "text/plain": [
              "Text(0.5, 1.0, 'mpg vs year')"
            ]
          },
          "metadata": {},
          "execution_count": 36
        },
        {
          "output_type": "display_data",
          "data": {
            "image/png": "[encoded data removed]",
            "text/plain": [
              "<Figure size 720x480 with 6 Axes>"
            ]
          },
          "metadata": {
            "needs_background": "light"
          }
        }
      ]
    },
    {
      "cell_type": "code",
      "metadata": {
        "colab": {
          "base_uri": "https://localhost:8080/",
          "height": 1000
        },
        "id": "gc8nJlRfBXBA",
        "outputId": "625d3fad-c337-44b3-ffef-cc9da00c5f67"
      },
      "source": [
        "data.boxplot(column= ['cylinders', 'acceleration'], by='mpg01', figsize=(12,4))\n",
        "data.boxplot(column= ['displacement', 'horsepower'], by='mpg01', figsize=(12,4))\n",
        "data.boxplot(column= ['year'], by='mpg01', figsize=(6,4))\n",
        "data.boxplot(column= ['weight'], by='mpg01', figsize=(6,4))\n",
        "\n"
      ],
      "execution_count": null,
      "outputs": [
        {
          "output_type": "execute_result",
          "data": {
            "text/plain": [
              "<matplotlib.axes._subplots.AxesSubplot at 0x7f2e10c5de10>"
            ]
          },
          "metadata": {},
          "execution_count": 45
        },
        {
          "output_type": "display_data",
          "data": {
            "image/png": "[encoded data removed]",
            "text/plain": [
              "<Figure size 864x288 with 2 Axes>"
            ]
          },
          "metadata": {
            "needs_background": "light"
          }
        },
        {
          "output_type": "display_data",
          "data": {
            "image/png": "[encoded data removed]",
            "text/plain": [
              "<Figure size 864x288 with 2 Axes>"
            ]
          },
          "metadata": {
            "needs_background": "light"
          }
        },
        {
          "output_type": "display_data",
          "data": {
            "image/png": "[encoded data removed]",
            "text/plain": [
              "<Figure size 432x288 with 1 Axes>"
            ]
          },
          "metadata": {
            "needs_background": "light"
          }
        },
        {
          "output_type": "display_data",
          "data": {
            "image/png": "[encoded data removed]",
            "text/plain": [
              "<Figure size 432x288 with 1 Axes>"
            ]
          },
          "metadata": {
            "needs_background": "light"
          }
        }
      ]
    },
    {
      "cell_type": "code",
      "metadata": {
        "colab": {
          "base_uri": "https://localhost:8080/",
          "height": 424
        },
        "id": "MJrKBTQiIOOw",
        "outputId": "1d270793-5be6-468d-83a0-63e17ce8c2a0"
      },
      "source": [
        "from sklearn.model_selection import train_test_split \n",
        "\n",
        "y = data['mpg01']\n",
        "data.drop('mpg', axis=1)\n",
        "X = data[['cylinders','displacement','horsepower', 'weight', 'acceleration', 'year']]\n",
        "\n",
        "X_train, X_test, y_train, y_test = train_test_split(\n",
        "     X, y, test_size=0.33, random_state=42)\n",
        "\n",
        "X_train"
      ],
      "execution_count": 4,
      "outputs": [
        {
          "output_type": "execute_result",
          "data": {
            "text/html": [
              "<div>\n",
              "<style scoped>\n",
              "    .dataframe tbody tr th:only-of-type {\n",
              "        vertical-align: middle;\n",
              "    }\n",
              "\n",
              "    .dataframe tbody tr th {\n",
              "        vertical-align: top;\n",
              "    }\n",
              "\n",
              "    .dataframe thead th {\n",
              "        text-align: right;\n",
              "    }\n",
              "</style>\n",
              "<table border=\"1\" class=\"dataframe\">\n",
              "  <thead>\n",
              "    <tr style=\"text-align: right;\">\n",
              "      <th></th>\n",
              "      <th>cylinders</th>\n",
              "      <th>displacement</th>\n",
              "      <th>horsepower</th>\n",
              "      <th>weight</th>\n",
              "      <th>acceleration</th>\n",
              "      <th>year</th>\n",
              "    </tr>\n",
              "  </thead>\n",
              "  <tbody>\n",
              "    <tr>\n",
              "      <th>368</th>\n",
              "      <td>4</td>\n",
              "      <td>112.0</td>\n",
              "      <td>88.0</td>\n",
              "      <td>2640</td>\n",
              "      <td>18.6</td>\n",
              "      <td>82</td>\n",
              "    </tr>\n",
              "    <tr>\n",
              "      <th>182</th>\n",
              "      <td>4</td>\n",
              "      <td>107.0</td>\n",
              "      <td>86.0</td>\n",
              "      <td>2464</td>\n",
              "      <td>15.5</td>\n",
              "      <td>76</td>\n",
              "    </tr>\n",
              "    <tr>\n",
              "      <th>120</th>\n",
              "      <td>4</td>\n",
              "      <td>121.0</td>\n",
              "      <td>112.0</td>\n",
              "      <td>2868</td>\n",
              "      <td>15.5</td>\n",
              "      <td>73</td>\n",
              "    </tr>\n",
              "    <tr>\n",
              "      <th>309</th>\n",
              "      <td>4</td>\n",
              "      <td>98.0</td>\n",
              "      <td>76.0</td>\n",
              "      <td>2144</td>\n",
              "      <td>14.7</td>\n",
              "      <td>80</td>\n",
              "    </tr>\n",
              "    <tr>\n",
              "      <th>221</th>\n",
              "      <td>8</td>\n",
              "      <td>305.0</td>\n",
              "      <td>145.0</td>\n",
              "      <td>3880</td>\n",
              "      <td>12.5</td>\n",
              "      <td>77</td>\n",
              "    </tr>\n",
              "    <tr>\n",
              "      <th>...</th>\n",
              "      <td>...</td>\n",
              "      <td>...</td>\n",
              "      <td>...</td>\n",
              "      <td>...</td>\n",
              "      <td>...</td>\n",
              "      <td>...</td>\n",
              "    </tr>\n",
              "    <tr>\n",
              "      <th>72</th>\n",
              "      <td>8</td>\n",
              "      <td>304.0</td>\n",
              "      <td>150.0</td>\n",
              "      <td>3892</td>\n",
              "      <td>12.5</td>\n",
              "      <td>72</td>\n",
              "    </tr>\n",
              "    <tr>\n",
              "      <th>107</th>\n",
              "      <td>6</td>\n",
              "      <td>232.0</td>\n",
              "      <td>100.0</td>\n",
              "      <td>2789</td>\n",
              "      <td>15.0</td>\n",
              "      <td>73</td>\n",
              "    </tr>\n",
              "    <tr>\n",
              "      <th>272</th>\n",
              "      <td>4</td>\n",
              "      <td>151.0</td>\n",
              "      <td>85.0</td>\n",
              "      <td>2855</td>\n",
              "      <td>17.6</td>\n",
              "      <td>78</td>\n",
              "    </tr>\n",
              "    <tr>\n",
              "      <th>352</th>\n",
              "      <td>4</td>\n",
              "      <td>98.0</td>\n",
              "      <td>65.0</td>\n",
              "      <td>2380</td>\n",
              "      <td>20.7</td>\n",
              "      <td>81</td>\n",
              "    </tr>\n",
              "    <tr>\n",
              "      <th>103</th>\n",
              "      <td>8</td>\n",
              "      <td>400.0</td>\n",
              "      <td>150.0</td>\n",
              "      <td>4997</td>\n",
              "      <td>14.0</td>\n",
              "      <td>73</td>\n",
              "    </tr>\n",
              "  </tbody>\n",
              "</table>\n",
              "<p>262 rows × 6 columns</p>\n",
              "</div>"
            ],
            "text/plain": [
              "     cylinders  displacement  horsepower  weight  acceleration  year\n",
              "368          4         112.0        88.0    2640          18.6    82\n",
              "182          4         107.0        86.0    2464          15.5    76\n",
              "120          4         121.0       112.0    2868          15.5    73\n",
              "309          4          98.0        76.0    2144          14.7    80\n",
              "221          8         305.0       145.0    3880          12.5    77\n",
              "..         ...           ...         ...     ...           ...   ...\n",
              "72           8         304.0       150.0    3892          12.5    72\n",
              "107          6         232.0       100.0    2789          15.0    73\n",
              "272          4         151.0        85.0    2855          17.6    78\n",
              "352          4          98.0        65.0    2380          20.7    81\n",
              "103          8         400.0       150.0    4997          14.0    73\n",
              "\n",
              "[262 rows x 6 columns]"
            ]
          },
          "metadata": {},
          "execution_count": 4
        }
      ]
    },
    {
      "cell_type": "code",
      "metadata": {
        "colab": {
          "base_uri": "https://localhost:8080/"
        },
        "id": "xNDHnkmqLEDQ",
        "outputId": "eee30b29-c309-459a-cea6-f3370876f9fb"
      },
      "source": [
        "import seaborn as sns\n",
        "\n",
        "import sklearn.linear_model as skl_lm\n",
        "from sklearn.discriminant_analysis import LinearDiscriminantAnalysis\n",
        "from sklearn.discriminant_analysis import QuadraticDiscriminantAnalysis\n",
        "from sklearn.metrics import confusion_matrix, classification_report, precision_score\n",
        "from sklearn import preprocessing\n",
        "from sklearn import neighbors\n",
        "\n",
        "import statsmodels.api as sm\n",
        "import statsmodels.formula.api as smf\n",
        "\n",
        "lda = LinearDiscriminantAnalysis(solver='svd')\n",
        "testPredictions = lda.fit(X_train, y_train).predict(X_test)\n",
        "\n",
        "cm_df = pd.DataFrame(confusion_matrix(y_test, testPredictions).T, index=[\"Low\", \"High\"], columns=[\"Low\", \"High\"])\n",
        "cm_df.index.name = 'Predicted'\n",
        "cm_df.columns.name = 'True'\n",
        "print(cm_df)  \n",
        "print(classification_report(y_test, testPredictions, digits=3))"
      ],
      "execution_count": 5,
      "outputs": [
        {
          "output_type": "stream",
          "name": "stdout",
          "text": [
            "True       Low  High\n",
            "Predicted           \n",
            "Low         54     0\n",
            "High        16    60\n",
            "              precision    recall  f1-score   support\n",
            "\n",
            "         0.0      1.000     0.771     0.871        70\n",
            "         1.0      0.789     1.000     0.882        60\n",
            "\n",
            "    accuracy                          0.877       130\n",
            "   macro avg      0.895     0.886     0.877       130\n",
            "weighted avg      0.903     0.877     0.876       130\n",
            "\n"
          ]
        }
      ]
    },
    {
      "cell_type": "code",
      "metadata": {
        "colab": {
          "base_uri": "https://localhost:8080/"
        },
        "id": "iimI0GZMM3ep",
        "outputId": "8bd2ea7d-a727-4b72-cf88-df0ad8a7c389"
      },
      "source": [
        "qda = QuadraticDiscriminantAnalysis()\n",
        "testPredictions = qda.fit(X_train,y_train).predict(X_test)\n",
        "\n",
        "cm_df = pd.DataFrame(confusion_matrix(y_test, testPredictions).T, index=[\"Low\", \"High\"], columns=[\"Low\", \"High\"])\n",
        "cm_df.index.name = 'Predicted'\n",
        "cm_df.columns.name = 'True'\n",
        "print(cm_df)  \n",
        "print(classification_report(y_test, testPredictions, digits=3))\n"
      ],
      "execution_count": null,
      "outputs": [
        {
          "output_type": "stream",
          "name": "stdout",
          "text": [
            "True       Low  High\n",
            "Predicted           \n",
            "Low         56     1\n",
            "High        14    59\n",
            "              precision    recall  f1-score   support\n",
            "\n",
            "         0.0      0.982     0.800     0.882        70\n",
            "         1.0      0.808     0.983     0.887        60\n",
            "\n",
            "    accuracy                          0.885       130\n",
            "   macro avg      0.895     0.892     0.885       130\n",
            "weighted avg      0.902     0.885     0.884       130\n",
            "\n"
          ]
        }
      ]
    },
    {
      "cell_type": "code",
      "metadata": {
        "colab": {
          "base_uri": "https://localhost:8080/"
        },
        "id": "7ufT2m3yN-VB",
        "outputId": "717127b1-7322-437a-9cb1-ca7e2a5518f6"
      },
      "source": [
        "regr = skl_lm.LogisticRegression()\n",
        "testPredictions = regr.fit(X_train, y_train).predict(X_test)\n",
        "\n",
        "cm_df = pd.DataFrame(confusion_matrix(y_test, testPredictions).T, index=[\"Low\", \"High\"], columns=[\"Low\", \"High\"])\n",
        "cm_df.index.name = 'Predicted'\n",
        "cm_df.columns.name = 'True'\n",
        "print(cm_df)  \n",
        "print(classification_report(y_test, testPredictions, digits=3))\n"
      ],
      "execution_count": 7,
      "outputs": [
        {
          "output_type": "stream",
          "name": "stdout",
          "text": [
            "True       Low  High\n",
            "Predicted           \n",
            "Low         54     0\n",
            "High        16    60\n",
            "              precision    recall  f1-score   support\n",
            "\n",
            "         0.0      1.000     0.771     0.871        70\n",
            "         1.0      0.789     1.000     0.882        60\n",
            "\n",
            "    accuracy                          0.877       130\n",
            "   macro avg      0.895     0.886     0.877       130\n",
            "weighted avg      0.903     0.877     0.876       130\n",
            "\n"
          ]
        },
        {
          "output_type": "stream",
          "name": "stderr",
          "text": [
            "/usr/local/lib/python3.7/dist-packages/sklearn/linear_model/_logistic.py:818: ConvergenceWarning: lbfgs failed to converge (status=1):\n",
            "STOP: TOTAL NO. of ITERATIONS REACHED LIMIT.\n",
            "\n",
            "Increase the number of iterations (max_iter) or scale the data as shown in:\n",
            "    https://scikit-learn.org/stable/modules/preprocessing.html\n",
            "Please also refer to the documentation for alternative solver options:\n",
            "    https://scikit-learn.org/stable/modules/linear_model.html#logistic-regression\n",
            "  extra_warning_msg=_LOGISTIC_SOLVER_CONVERGENCE_MSG,\n"
          ]
        }
      ]
    },
    {
      "cell_type": "code",
      "metadata": {
        "colab": {
          "base_uri": "https://localhost:8080/"
        },
        "id": "vekhqc6KO0lX",
        "outputId": "c7637b3d-ef02-4d25-990d-f6e4e6780e82"
      },
      "source": [
        "\n",
        "def KNN(n_neighbors=1, weights='uniform'):\n",
        "    clf = neighbors.KNeighborsClassifier(n_neighbors)\n",
        "    clf.fit(X_train, y_train)\n",
        "    testPredictions = clf.predict(X_test)\n",
        "    score = clf.score(X_test, y_test)\n",
        "    return(testPredictions, score, clf.classes_)\n",
        "\n",
        "for i in [1,3,5,10, 20]:\n",
        "    testPredictions, score, classes = KNN(i)\n",
        "    cm_df = pd.DataFrame(confusion_matrix(y_test, testPredictions).T, index=[\"Low\", \"High\"], columns=[\"Low\", \"High\"])\n",
        "    cm_df.index.name = 'Predicted'\n",
        "    cm_df.columns.name = 'True'\n",
        "    print(cm_df)  \n",
        "    print(classification_report(y_test, testPredictions, digits=3))"
      ],
      "execution_count": null,
      "outputs": [
        {
          "output_type": "stream",
          "name": "stdout",
          "text": [
            "True       Low  High\n",
            "Predicted           \n",
            "Low         53     3\n",
            "High        17    57\n",
            "              precision    recall  f1-score   support\n",
            "\n",
            "         0.0      0.946     0.757     0.841        70\n",
            "         1.0      0.770     0.950     0.851        60\n",
            "\n",
            "    accuracy                          0.846       130\n",
            "   macro avg      0.858     0.854     0.846       130\n",
            "weighted avg      0.865     0.846     0.846       130\n",
            "\n",
            "True       Low  High\n",
            "Predicted           \n",
            "Low         52     1\n",
            "High        18    59\n",
            "              precision    recall  f1-score   support\n",
            "\n",
            "         0.0      0.981     0.743     0.846        70\n",
            "         1.0      0.766     0.983     0.861        60\n",
            "\n",
            "    accuracy                          0.854       130\n",
            "   macro avg      0.874     0.863     0.853       130\n",
            "weighted avg      0.882     0.854     0.853       130\n",
            "\n",
            "True       Low  High\n",
            "Predicted           \n",
            "Low         49     1\n",
            "High        21    59\n",
            "              precision    recall  f1-score   support\n",
            "\n",
            "         0.0      0.980     0.700     0.817        70\n",
            "         1.0      0.738     0.983     0.843        60\n",
            "\n",
            "    accuracy                          0.831       130\n",
            "   macro avg      0.859     0.842     0.830       130\n",
            "weighted avg      0.868     0.831     0.829       130\n",
            "\n",
            "True       Low  High\n",
            "Predicted           \n",
            "Low         48     1\n",
            "High        22    59\n",
            "              precision    recall  f1-score   support\n",
            "\n",
            "         0.0      0.980     0.686     0.807        70\n",
            "         1.0      0.728     0.983     0.837        60\n",
            "\n",
            "    accuracy                          0.823       130\n",
            "   macro avg      0.854     0.835     0.822       130\n",
            "weighted avg      0.864     0.823     0.821       130\n",
            "\n",
            "True       Low  High\n",
            "Predicted           \n",
            "Low         47     1\n",
            "High        23    59\n",
            "              precision    recall  f1-score   support\n",
            "\n",
            "         0.0      0.979     0.671     0.797        70\n",
            "         1.0      0.720     0.983     0.831        60\n",
            "\n",
            "    accuracy                          0.815       130\n",
            "   macro avg      0.849     0.827     0.814       130\n",
            "weighted avg      0.859     0.815     0.812       130\n",
            "\n"
          ]
        }
      ]
    }
  ]
}