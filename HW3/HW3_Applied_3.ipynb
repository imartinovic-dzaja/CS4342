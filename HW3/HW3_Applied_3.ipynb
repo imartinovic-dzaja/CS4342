{
  "nbformat": 4,
  "nbformat_minor": 0,
  "metadata": {
    "colab": {
      "name": "HW3 Applied 3.ipynb",
      "provenance": []
    },
    "kernelspec": {
      "name": "python3",
      "display_name": "Python 3"
    },
    "language_info": {
      "name": "python"
    }
  },
  "cells": [
    {
      "cell_type": "code",
      "metadata": {
        "id": "jpOVvTtRZ7zQ"
      },
      "source": [
        "import numpy as np\n",
        "import pandas as pd\n",
        "\n",
        "data = pd.read_csv('Boston.csv')\n",
        "\n",
        "medianCrim = data['crim'].median()\n",
        "data.loc[(data.crim > medianCrim),'crim01'] = 1\n",
        "data.loc[(data.crim < medianCrim),'crim01'] = 0\n",
        "data.crim01 = pd.to_numeric(data.crim01)\n",
        "\n",
        "data = data[['crim', 'zn','indus', 'chas', 'nox', 'rm', 'age', 'dis', 'rad', 'tax', 'ptratio', 'black', 'lstat', 'medv', 'crim01']]\n",
        "\n",
        "\n"
      ],
      "execution_count": 3,
      "outputs": []
    },
    {
      "cell_type": "code",
      "metadata": {
        "id": "EwriIGaVb0q2"
      },
      "source": [
        "from sklearn.model_selection import train_test_split \n",
        "import seaborn as sns\n",
        "\n",
        "import sklearn.linear_model as skl_lm\n",
        "from sklearn.discriminant_analysis import LinearDiscriminantAnalysis\n",
        "from sklearn.discriminant_analysis import QuadraticDiscriminantAnalysis\n",
        "from sklearn.metrics import confusion_matrix, classification_report, precision_score\n",
        "from sklearn import preprocessing\n",
        "from sklearn import neighbors\n",
        "\n",
        "import statsmodels.api as sm\n",
        "import statsmodels.formula.api as smf\n",
        "\n",
        "y = data['crim01']\n",
        "X = data[['zn','indus', 'chas', 'nox', 'rm', 'age', 'dis', 'rad', 'tax', 'ptratio', 'black', 'lstat', 'medv']]\n",
        "\n",
        "X_train, X_test, y_train, y_test = train_test_split(\n",
        "     X, y, test_size=0.33, random_state=42)\n",
        "\n",
        "lda = LinearDiscriminantAnalysis(solver='svd')\n",
        "qda = QuadraticDiscriminantAnalysis()\n",
        "regr = skl_lm.LogisticRegression()\n",
        "\n",
        "\n",
        "def KNN(n_neighbors=1, weights='uniform'):\n",
        "    clf = neighbors.KNeighborsClassifier(n_neighbors)\n",
        "    clf.fit(X_train, y_train)\n",
        "    testPredictions = clf.predict(X_test)\n",
        "    score = clf.score(X_test, y_test)\n",
        "    return(testPredictions, score, clf.classes_)\n"
      ],
      "execution_count": 7,
      "outputs": []
    },
    {
      "cell_type": "code",
      "metadata": {
        "id": "9nn3WZBPgeKY"
      },
      "source": [
        "X = data[['indus', 'nox', 'rm', 'age', 'dis', 'tax', 'lstat', 'medv']]\n",
        "\n",
        "X_train, X_test, y_train, y_test = train_test_split(\n",
        "     X, y, test_size=0.33, random_state=42)"
      ],
      "execution_count": 5,
      "outputs": []
    },
    {
      "cell_type": "code",
      "metadata": {
        "id": "2QhDOdEMgfzM"
      },
      "source": [
        "X = data[['nox', 'rm', 'age', 'lstat', 'medv']]\n",
        "\n",
        "X_train, X_test, y_train, y_test = train_test_split(\n",
        "     X, y, test_size=0.33, random_state=42)"
      ],
      "execution_count": 15,
      "outputs": []
    },
    {
      "cell_type": "code",
      "metadata": {
        "id": "SSH-YKRkgmjC"
      },
      "source": [
        "X = data[['zn','indus', 'dis', 'rad', 'tax', 'ptratio', 'black']]\n",
        "\n",
        "X_train, X_test, y_train, y_test = train_test_split(\n",
        "     X, y, test_size=0.33, random_state=42)"
      ],
      "execution_count": 13,
      "outputs": []
    },
    {
      "cell_type": "code",
      "metadata": {
        "colab": {
          "base_uri": "https://localhost:8080/"
        },
        "id": "K5KhD3-beWEV",
        "outputId": "70214767-9ed0-42c4-c01b-fdfcf0928ca2"
      },
      "source": [
        "testPredictions = regr.fit(X_train, y_train).predict(X_test)\n",
        "\n",
        "cm_df = pd.DataFrame(confusion_matrix(y_test, testPredictions).T, index=[\"Low\", \"High\"], columns=[\"Low\", \"High\"])\n",
        "cm_df.index.name = 'Predicted'\n",
        "cm_df.columns.name = 'True'\n",
        "print(cm_df)  "
      ],
      "execution_count": 16,
      "outputs": [
        {
          "output_type": "stream",
          "name": "stdout",
          "text": [
            "True       Low  High\n",
            "Predicted           \n",
            "Low         69    14\n",
            "High        15    69\n"
          ]
        }
      ]
    },
    {
      "cell_type": "markdown",
      "metadata": {
        "id": "r8C78t7RfSxs"
      },
      "source": [
        "LDA all"
      ]
    },
    {
      "cell_type": "code",
      "metadata": {
        "colab": {
          "base_uri": "https://localhost:8080/"
        },
        "id": "Q50tPaameHgV",
        "outputId": "d6d060f5-a119-4113-ec39-14ca342fae07"
      },
      "source": [
        "testPredictions = lda.fit(X_train, y_train).predict(X_test)\n",
        "\n",
        "cm_df = pd.DataFrame(confusion_matrix(y_test, testPredictions).T, index=[\"Low\", \"High\"], columns=[\"Low\", \"High\"])\n",
        "cm_df.index.name = 'Predicted'\n",
        "cm_df.columns.name = 'True'\n",
        "print(cm_df)  "
      ],
      "execution_count": null,
      "outputs": [
        {
          "output_type": "stream",
          "name": "stdout",
          "text": [
            "True       Low  High\n",
            "Predicted           \n",
            "Low         79    27\n",
            "High         5    56\n"
          ]
        }
      ]
    },
    {
      "cell_type": "code",
      "metadata": {
        "colab": {
          "base_uri": "https://localhost:8080/",
          "height": 130
        },
        "id": "dlF7dLIsfVYN",
        "outputId": "1884d3e8-e00c-4799-ea62-387270bc2951"
      },
      "source": [
        "QDA all"
      ],
      "execution_count": null,
      "outputs": [
        {
          "output_type": "error",
          "ename": "SyntaxError",
          "evalue": "ignored",
          "traceback": [
            "\u001b[0;36m  File \u001b[0;32m\"<ipython-input-6-6a987908d1e1>\"\u001b[0;36m, line \u001b[0;32m1\u001b[0m\n\u001b[0;31m    QDA all\u001b[0m\n\u001b[0m          ^\u001b[0m\n\u001b[0;31mSyntaxError\u001b[0m\u001b[0;31m:\u001b[0m invalid syntax\n"
          ]
        }
      ]
    },
    {
      "cell_type": "code",
      "metadata": {
        "colab": {
          "base_uri": "https://localhost:8080/"
        },
        "id": "0H8KYu_zeV6z",
        "outputId": "7c5e9fc4-3401-4f06-acab-a32c89742fac"
      },
      "source": [
        "testPredictions = qda.fit(X_train,y_train).predict(X_test)\n",
        "\n",
        "cm_df = pd.DataFrame(confusion_matrix(y_test, testPredictions).T, index=[\"Low\", \"High\"], columns=[\"Low\", \"High\"])\n",
        "cm_df.index.name = 'Predicted'\n",
        "cm_df.columns.name = 'True'\n",
        "print(cm_df)  "
      ],
      "execution_count": null,
      "outputs": [
        {
          "output_type": "stream",
          "name": "stdout",
          "text": [
            "True       Low  High\n",
            "Predicted           \n",
            "Low         84    20\n",
            "High         0    63\n"
          ]
        }
      ]
    },
    {
      "cell_type": "code",
      "metadata": {
        "id": "uO9gOJbufXhL"
      },
      "source": [
        "Logit all"
      ],
      "execution_count": null,
      "outputs": []
    },
    {
      "cell_type": "markdown",
      "metadata": {
        "id": "GN36HR5sfbb8"
      },
      "source": [
        "knn all"
      ]
    },
    {
      "cell_type": "code",
      "metadata": {
        "colab": {
          "base_uri": "https://localhost:8080/"
        },
        "id": "77Vs_RHtejBf",
        "outputId": "b2a04218-dd6c-44d9-cfe1-613dbb0f4dee"
      },
      "source": [
        "for i in [1,3,5,10, 20]:\n",
        "    testPredictions, score, classes = KNN(i)\n",
        "    cm_df = pd.DataFrame(confusion_matrix(y_test, testPredictions).T, index=[\"Low\", \"High\"], columns=[\"Low\", \"High\"])\n",
        "    cm_df.index.name = 'Predicted'\n",
        "    cm_df.columns.name = 'True'\n",
        "    print(cm_df)  "
      ],
      "execution_count": null,
      "outputs": [
        {
          "output_type": "stream",
          "name": "stdout",
          "text": [
            "True       Low  High\n",
            "Predicted           \n",
            "Low         73     5\n",
            "High        11    78\n",
            "True       Low  High\n",
            "Predicted           \n",
            "Low         75     9\n",
            "High         9    74\n",
            "True       Low  High\n",
            "Predicted           \n",
            "Low         75     8\n",
            "High         9    75\n",
            "True       Low  High\n",
            "Predicted           \n",
            "Low         70     8\n",
            "High        14    75\n",
            "True       Low  High\n",
            "Predicted           \n",
            "Low         67    11\n",
            "High        17    72\n"
          ]
        }
      ]
    },
    {
      "cell_type": "code",
      "metadata": {
        "id": "yrcF9wZefeIJ"
      },
      "source": [
        ""
      ],
      "execution_count": null,
      "outputs": []
    }
  ]
}